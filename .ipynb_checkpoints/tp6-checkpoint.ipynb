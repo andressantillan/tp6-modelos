{
 "cells": [
  {
   "cell_type": "markdown",
   "id": "cacca64e-b545-4254-8dd7-8c32fe543138",
   "metadata": {},
   "source": [
    "# TP N6"
   ]
  },
  {
   "cell_type": "markdown",
   "id": "8efb02ec-d43c-4380-941b-4c134dfa1220",
   "metadata": {},
   "source": [
    "Una empresa fabrica varios tipos de autopartes para las más importantes\n",
    "empresas automotrices y recientemente ha firmado un nuevo contrato para producir bombas de agua. Para ello, la capacidad de producción planeada es de 130 unidades por día, por cada turno.\n",
    "Debido a las fluctuaciones en la línea de ensamble, la demanda histórica presenta una distribución Normal de media 150 unidades diarias con un desvío estándar de 25 unidades. Para mantener un inventario suficiente que cumpla con los requerimientos de los clientes, los gerentes de la fábrica están considerando una nueva política que consiste en producir durante un segundo turno si el inventario cae a 50 o menos unidades al final del día. El costo de mantener el stock es de $70 por unidad por día.\n",
    "\n",
    "Para la planificación del presupuesto anual, los gerentes necesitan saber cuántos turnos adicionales serán necesarios en promedio si se aplica la nueva política de producción. Por último, también desean calcular el costo anual promedio del mantenimiento de stock.\n",
    "\n",
    "Consideraciones:\n",
    "* El año se considera con 250 días hábiles.\n",
    "* Es necesario simular 30 años para realizar las estimaciones.\n",
    "* El inventario cuenta inicialmente con 90 unidades del producto.\n",
    "* Se puede agregar un turno por día."
   ]
  },
  {
   "cell_type": "markdown",
   "id": "624a3327-776c-4c4e-9fad-0e03b3ce8d1e",
   "metadata": {},
   "source": [
    "a) Defina el o los objetivos de la simulación.\n",
    "\n",
    "b) Describa el modelo:\n",
    "    \n",
    "    - Variables de entrada, salida y estado.\n",
    "    - Entidades y atributos.\n",
    "    - Clasificación.\n",
    "    - Características del inventario.\n",
    "\n",
    "c) Definir y justificar la “visión del mundo” y la forma de avance del tiempo que utilizará para realizar la simulación.\n",
    "\n",
    "d) Realice un diagrama de flujo o pseudocódigo que indique a grandes rasgos cómo va a realizar la simulación.\n",
    "\n",
    "e) Realice la simulación con el lenguaje de preferencia. Repita la simulación utilizando 60, 70 y 80 como cantidad mínima de unidades diarias en el inventario. \n",
    "\n",
    "f) Calcule promedios de costos anuales para los 3 valores y los correspondientes I.C (95%). Grafique histogramas representativos."
   ]
  },
  {
   "cell_type": "markdown",
   "id": "6ec3d81a-d0e1-4a98-9784-ed31125f7ad8",
   "metadata": {},
   "source": [
    "a) Objetivo: concocer el promedio de cuantos turnos adicionales son necesarios si aplica la politica del segundo turno y calcular el costo anual promedio del mantenimiento del stock.\n",
    "\n",
    "b)\n",
    "\n",
    "    - Entrada: punto de reorden; costo mantenimiento unidad; inventario inicial; produccion por turno.\n",
    "    - Salidas: costo de mantenimiento anual; promedio de turnos.\n",
    "    - Estado: inventario; costo de mantenimiento.\n",
    "    - Entidades:\n",
    "        1. Demanda -> distribucion normal con media de 150 unidades.\n",
    "    - Clasificacion: discreto, estocastico, matematico y formal, de simulacion.\n",
    "\n",
    "c) Se utiliza planificacion de eventos, ya que al tomar el enfoque de administracion de procesos o escaneo de actividades, complejiza el modelo. Solo se cuenta con una entidad, y solo interesa saber estado del mismo cuando ocurre una demanda o un punto de reorden. Se utiliza avance de tiempo variable ya que se adopta al enfoque de planificacion de eventos.\n",
    "\n",
    "d)"
   ]
  },
  {
   "cell_type": "code",
   "execution_count": 2,
   "id": "06129545-af3e-4a67-80b3-9aa88d27bc28",
   "metadata": {
    "tags": []
   },
   "outputs": [],
   "source": [
    "import numpy as np\n",
    "import scipy as sp"
   ]
  },
  {
   "cell_type": "code",
   "execution_count": 3,
   "id": "03a64883-aabd-43b9-b24e-04f8f1cf750c",
   "metadata": {
    "tags": []
   },
   "outputs": [],
   "source": [
    "PRODUCCION = 130 # por turno\n",
    "PUNTO_REORDEN = 50\n",
    "COSTO_MANT = 70\n",
    "DIAS = 250\n",
    "ANIOS = 30\n",
    "stock = 90\n",
    "turnos = []\n",
    "costo_mantenimiento = 0 "
   ]
  },
  {
   "cell_type": "code",
   "execution_count": null,
   "id": "2f86a179-5c21-4f95-97b5-0a107a50d1e7",
   "metadata": {},
   "outputs": [],
   "source": [
    "def simulacion_autopartes():\n",
    "    for anio in range(ANIOS):\n",
    "        for dia in range(DIAS):\n",
    "            demanda = np.random.normal(150, 25)\n",
    "            if stock >= demanda:\n",
    "                stock -= demanda\n",
    "            else:\n",
    "                pass\n",
    "            \n",
    "            if stock < PUNTO_REORDEN:\n",
    "                stock += PRODUCCION * 2\n",
    "                turnos.append(2)\n",
    "            else:\n",
    "                stock += PRODUCCION\n",
    "                turnos.append(1)\n",
    "            \n",
    "            costo_mantenimiento += COSTO_MANT * stock"
   ]
  }
 ],
 "metadata": {
  "kernelspec": {
   "display_name": "Python 3 (ipykernel)",
   "language": "python",
   "name": "python3"
  },
  "language_info": {
   "codemirror_mode": {
    "name": "ipython",
    "version": 3
   },
   "file_extension": ".py",
   "mimetype": "text/x-python",
   "name": "python",
   "nbconvert_exporter": "python",
   "pygments_lexer": "ipython3",
   "version": "3.12.3"
  }
 },
 "nbformat": 4,
 "nbformat_minor": 5
}

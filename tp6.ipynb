{
 "cells": [
  {
   "cell_type": "code",
   "execution_count": 2,
   "id": "06129545-af3e-4a67-80b3-9aa88d27bc28",
   "metadata": {
    "tags": []
   },
   "outputs": [],
   "source": [
    "import numpy as np\n",
    "import scipy as sp"
   ]
  },
  {
   "cell_type": "code",
   "execution_count": 3,
   "id": "03a64883-aabd-43b9-b24e-04f8f1cf750c",
   "metadata": {
    "tags": []
   },
   "outputs": [],
   "source": [
    "PRODUCCION = 130 # por turno\n",
    "PUNTO_REORDEN = 50\n",
    "COSTO_MANT = 70\n",
    "DIAS = 250\n",
    "ANIOS = 30\n",
    "stock = 90\n",
    "turnos = []\n",
    "costo_mantenimiento = 0 "
   ]
  },
  {
   "cell_type": "code",
   "execution_count": null,
   "id": "2f86a179-5c21-4f95-97b5-0a107a50d1e7",
   "metadata": {},
   "outputs": [],
   "source": [
    "for anio in range(ANIOS):\n",
    "    for dia in range(DIAS):\n",
    "        demanda = np.random.normal(150, 25)\n",
    "        if stock >= demanda:\n",
    "            stock -= demanda\n",
    "        else:\n",
    "            pass\n",
    "        \n",
    "        if stock < PUNTO_REORDEN:\n",
    "            stock += PRODUCCION * 2\n",
    "            turnos.append(2)\n",
    "        else:\n",
    "            stock += PRODUCCION\n",
    "            turnos.append(1)\n",
    "        \n",
    "        costo_mantenimiento += COSTO_MANT * stock"
   ]
  }
 ],
 "metadata": {
  "kernelspec": {
   "display_name": "Python 3 (ipykernel)",
   "language": "python",
   "name": "python3"
  },
  "language_info": {
   "codemirror_mode": {
    "name": "ipython",
    "version": 3
   },
   "file_extension": ".py",
   "mimetype": "text/x-python",
   "name": "python",
   "nbconvert_exporter": "python",
   "pygments_lexer": "ipython3",
   "version": "3.10.1"
  }
 },
 "nbformat": 4,
 "nbformat_minor": 5
}

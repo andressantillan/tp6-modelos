{
 "cells": [
  {
   "cell_type": "markdown",
   "id": "cacca64e-b545-4254-8dd7-8c32fe543138",
   "metadata": {},
   "source": [
    "# TP N6"
   ]
  },
  {
   "cell_type": "markdown",
   "id": "8efb02ec-d43c-4380-941b-4c134dfa1220",
   "metadata": {},
   "source": [
    "Una empresa fabrica varios tipos de autopartes para las más importantes\n",
    "empresas automotrices y recientemente ha firmado un nuevo contrato para producir bombas de agua. Para ello, la capacidad de producción planeada es de 130 unidades por día, por cada turno.\n",
    "Debido a las fluctuaciones en la línea de ensamble, la demanda histórica presenta una distribución Normal de media 150 unidades diarias con un desvío estándar de 25 unidades. Para mantener un inventario suficiente que cumpla con los requerimientos de los clientes, los gerentes de la fábrica están considerando una nueva política que consiste en producir durante un segundo turno si el inventario cae a 50 o menos unidades al final del día. El costo de mantener el stock es de $70 por unidad por día.\n",
    "\n",
    "Para la planificación del presupuesto anual, los gerentes necesitan saber cuántos turnos adicionales serán necesarios en promedio si se aplica la nueva política de producción. Por último, también desean calcular el costo anual promedio del mantenimiento de stock.\n",
    "\n",
    "Consideraciones:\n",
    "* El año se considera con 250 días hábiles.\n",
    "* Es necesario simular 30 años para realizar las estimaciones.\n",
    "* El inventario cuenta inicialmente con 90 unidades del producto.\n",
    "* Se puede agregar un turno por día."
   ]
  },
  {
   "cell_type": "markdown",
   "id": "624a3327-776c-4c4e-9fad-0e03b3ce8d1e",
   "metadata": {},
   "source": [
    "a) Defina el o los objetivos de la simulación.\n",
    "\n",
    "b) Describa el modelo:\n",
    "    \n",
    "* Variables de entrada, salida y estado.\n",
    "* Entidades y atributos.\n",
    "* Clasificación.\n",
    "* Características del inventario.\n",
    "\n",
    "c) Definir y justificar la “visión del mundo” y la forma de avance del tiempo que utilizará para realizar la simulación.\n",
    "\n",
    "d) Realice un diagrama de flujo o pseudocódigo que indique a grandes rasgos cómo va a realizar la simulación.\n",
    "\n",
    "e) Realice la simulación con el lenguaje de preferencia. Repita la simulación utilizando 60, 70 y 80 como cantidad mínima de unidades diarias en el inventario. \n",
    "\n",
    "f) Calcule promedios de costos anuales para los 3 valores y los correspondientes I.C (95%). Grafique histogramas representativos."
   ]
  },
  {
   "cell_type": "markdown",
   "id": "6ec3d81a-d0e1-4a98-9784-ed31125f7ad8",
   "metadata": {},
   "source": [
    "a) Objetivo: concocer el promedio de cuantos turnos adicionales son necesarios si aplica la politica del segundo turno y calcular el costo anual promedio del mantenimiento del stock.\n",
    "\n",
    "b)\n",
    "\n",
    "- Entrada: punto de reorden; costo mantenimiento unidad; inventario inicial; produccion por turno.\n",
    "- Salidas: costo de mantenimiento anual; promedio de turnos.\n",
    "- Estado: inventario; costo de mantenimiento.\n",
    "- Entidades:\n",
    "    1. Demanda -> distribucion normal con media de 150 unidades y desvio estandar de 25 unidades.\n",
    "- Clasificacion: discreto, estocastico, matematico y formal, de simulacion.\n",
    "- Caracteristicas del inventario: demanda probabilistica; politica de pedidos con revision continua siendo el punto de reorden de 50 unidades; costo de conservacion de $70 por unidad.\n",
    "\n",
    "c) Se utiliza planificacion de eventos, ya que al tomar el enfoque de administracion de procesos o escaneo de actividades, complejiza el modelo. Solo se cuenta con una entidad, y solo interesa saber estado del mismo cuando ocurre una demanda o un punto de reorden. Se utiliza avance de tiempo variable ya que se adopta al enfoque de planificacion de eventos.\n",
    "\n",
    "d)"
   ]
  },
  {
   "cell_type": "markdown",
   "id": "84d5c2ad",
   "metadata": {},
   "source": [
    "e) Realice la simulación con el lenguaje de preferencia. Repita la simulación utilizando 60, 70 y 80 como cantidad mínima de unidades diarias en el inventario. "
   ]
  },
  {
   "cell_type": "code",
   "execution_count": 146,
   "id": "06129545-af3e-4a67-80b3-9aa88d27bc28",
   "metadata": {
    "tags": []
   },
   "outputs": [],
   "source": [
    "import numpy as np\n",
    "import matplotlib.pyplot as plt\n",
    "from scipy import stats"
   ]
  },
  {
   "cell_type": "code",
   "execution_count": 147,
   "id": "03a64883-aabd-43b9-b24e-04f8f1cf750c",
   "metadata": {
    "tags": []
   },
   "outputs": [],
   "source": [
    "PRODUCCION = 130 # por turno\n",
    "PUNTO_REORDEN = 50\n",
    "COSTO_MANT = 70\n",
    "DIAS = 250\n",
    "ANIOS = 30\n",
    "STOCK_INICIAL = 90"
   ]
  },
  {
   "cell_type": "code",
   "execution_count": 148,
   "id": "2f86a179-5c21-4f95-97b5-0a107a50d1e7",
   "metadata": {},
   "outputs": [],
   "source": [
    "def simulacion_autopartes(stock = STOCK_INICIAL, punto_reorden = PUNTO_REORDEN):\n",
    "    contadores = {\n",
    "        'total_turnos_adicionales': [],\n",
    "        'total_costo_mantenimiento': [],\n",
    "    }\n",
    "    \n",
    "    for anio in range(ANIOS):\n",
    "        turno_adicional = 0\n",
    "        costo_mantenimiento = 0\n",
    "        \n",
    "        for dia in range(DIAS):\n",
    "            demanda = np.random.normal(150, 25)\n",
    "            if stock >= demanda:\n",
    "                stock -= demanda\n",
    "            \n",
    "            if stock < punto_reorden:\n",
    "                stock += PRODUCCION * 2\n",
    "                turno_adicional += 1\n",
    "            else:\n",
    "                stock += PRODUCCION\n",
    "            \n",
    "            costo_mantenimiento += COSTO_MANT * stock\n",
    "        \n",
    "        contadores['total_turnos_adicionales'].append(turno_adicional)\n",
    "        contadores['total_costo_mantenimiento'].append(costo_mantenimiento)\n",
    "    \n",
    "\n",
    "    return contadores"
   ]
  },
  {
   "cell_type": "code",
   "execution_count": 149,
   "id": "74ff5982",
   "metadata": {},
   "outputs": [
    {
     "name": "stdout",
     "output_type": "stream",
     "text": [
      "Cantidad de turnos adicionales x anio: [34, 39, 37, 35, 36, 38, 37, 29, 38, 30, 31, 39, 31, 37, 33, 37, 36, 33, 41, 32, 33, 34, 33, 42, 30, 37, 37, 35, 34, 41]\n",
      "Promedio de turnos por dia: 35.3\n",
      "Promedio de costo de mantenimiento: 4394949.86362368\n"
     ]
    }
   ],
   "source": [
    "sim1 = simulacion_autopartes()\n",
    "promedio_turnos = np.mean(sim1.get('total_turnos_adicionales'))\n",
    "promedio_costo_mantenimiento = np.mean(sim1.get('total_costo_mantenimiento'))\n",
    "print(f\"Cantidad de turnos adicionales x anio: {sim1.get('total_turnos_adicionales')}\")\n",
    "print(f\"Promedio de turnos por dia: {promedio_turnos}\")\n",
    "print(f\"Promedio de costo de mantenimiento: {promedio_costo_mantenimiento}\")"
   ]
  },
  {
   "cell_type": "code",
   "execution_count": 150,
   "id": "bcadc52e",
   "metadata": {},
   "outputs": [
    {
     "name": "stdout",
     "output_type": "stream",
     "text": [
      "Cantidad de turnos adicionales x anio (punto de reorden 60): [34, 41, 38, 37, 36, 37, 35, 37, 39, 39, 37, 40, 37, 39, 34, 37, 38, 40, 38, 36, 44, 38, 35, 39, 39, 36, 35, 33, 42, 37]\n",
      "Promedio de turnos por dia (punto de reorden 60): 37.56666666666667\n",
      "Cantidad de turnos adicionales x anio (punto de reorden 70): [38, 38, 42, 42, 42, 33, 38, 42, 45, 43, 39, 42, 36, 39, 35, 35, 41, 39, 32, 41, 33, 36, 36, 39, 40, 37, 29, 37, 39, 40]\n",
      "Promedio de turnos por dia (punto de reorden 70): 38.266666666666666\n",
      "Cantidad de turnos adicionales x anio (punto de reorden 80): [34, 36, 39, 37, 38, 40, 35, 41, 39, 37, 41, 42, 30, 39, 40, 37, 38, 37, 34, 41, 40, 37, 39, 41, 40, 40, 40, 39, 37, 41]\n",
      "Promedio de turnos por dia (punto de reorden 80): 38.3\n"
     ]
    }
   ],
   "source": [
    "sim2 = simulacion_autopartes(stock=STOCK_INICIAL, punto_reorden=60)\n",
    "promedio_turnos2 = np.mean(sim2.get('total_turnos_adicionales'))\n",
    "\n",
    "print(f\"Cantidad de turnos adicionales x anio (punto de reorden 60): {sim2.get('total_turnos_adicionales')}\")\n",
    "print(f\"Promedio de turnos por dia (punto de reorden 60): {promedio_turnos2}\")\n",
    "\n",
    "sim3 = simulacion_autopartes(stock=STOCK_INICIAL, punto_reorden=70)\n",
    "promedio_turnos3 = np.mean(sim3.get('total_turnos_adicionales'))\n",
    "print(f\"Cantidad de turnos adicionales x anio (punto de reorden 70): {sim3.get('total_turnos_adicionales')}\")\n",
    "print(f\"Promedio de turnos por dia (punto de reorden 70): {promedio_turnos3}\")\n",
    "\n",
    "\n",
    "sim4 = simulacion_autopartes(stock=STOCK_INICIAL, punto_reorden=80)\n",
    "promedio_turnos4 = np.mean(sim4.get('total_turnos_adicionales'))\n",
    "print(f\"Cantidad de turnos adicionales x anio (punto de reorden 80): {sim4.get('total_turnos_adicionales')}\")\n",
    "print(f\"Promedio de turnos por dia (punto de reorden 80): {promedio_turnos4}\")\n"
   ]
  },
  {
   "cell_type": "markdown",
   "id": "49262ba5",
   "metadata": {},
   "source": [
    "c) Calcule promedios de costos anuales para los 3 valores y los correspondientes I.C (95%). Grafique histogramas representativos.\n"
   ]
  },
  {
   "cell_type": "code",
   "execution_count": 151,
   "id": "4b9dfd5e",
   "metadata": {},
   "outputs": [
    {
     "name": "stdout",
     "output_type": "stream",
     "text": [
      "Promedio de costo de mantenimiento (punto de reorden 60): 4552218.850275343\n",
      "Intervalo de confianza (punto de reorden 60): [4529398.36, 4575039.34]\n",
      "Promedio de costo de mantenimiento (punto de reorden 70): 4735923.070189055\n",
      "Intervalo de confianza (punto de reorden 70): [4709361.35, 4762484.79]\n",
      "Promedio de costo de mantenimiento (punto de reorden 80): 4907504.272902134\n",
      "Intervalo de confianza (punto de reorden 80): [4880859.09, 4934149.46]\n"
     ]
    }
   ],
   "source": [
    "promedio_costo_mantenimiento2 = np.mean(sim2.get('total_costo_mantenimiento'))\n",
    "promedio_costo_mantenimiento3 = np.mean(sim3.get('total_costo_mantenimiento'))\n",
    "promedio_costo_mantenimiento4 = np.mean(sim4.get('total_costo_mantenimiento'))\n",
    "\n",
    "ic2 = stats.t.interval(0.95, len(sim2.get('total_costo_mantenimiento')) - 1, loc=promedio_costo_mantenimiento2, scale=stats.sem(sim2.get('total_costo_mantenimiento')))\n",
    "ic3 = stats.t.interval(0.95, len(sim3.get('total_costo_mantenimiento')) - 1, loc=promedio_costo_mantenimiento3, scale=stats.sem(sim3.get('total_costo_mantenimiento')))\n",
    "ic4 = stats.t.interval(0.95, len(sim4.get('total_costo_mantenimiento')) - 1, loc=promedio_costo_mantenimiento4, scale=stats.sem(sim4.get('total_costo_mantenimiento')))\n",
    "\n",
    "print(f\"Promedio de costo de mantenimiento (punto de reorden 60): {promedio_costo_mantenimiento2}\")\n",
    "print(f\"Intervalo de confianza (punto de reorden 60): [{ic2[0]:.2f}, {ic2[1]:.2f}]\")\n",
    "\n",
    "print(f\"Promedio de costo de mantenimiento (punto de reorden 70): {promedio_costo_mantenimiento3}\")\n",
    "print(f\"Intervalo de confianza (punto de reorden 70): [{ic3[0]:.2f}, {ic3[1]:.2f}]\")\n",
    "\n",
    "print(f\"Promedio de costo de mantenimiento (punto de reorden 80): {promedio_costo_mantenimiento4}\")\n",
    "print(f\"Intervalo de confianza (punto de reorden 80): [{ic4[0]:.2f}, {ic4[1]:.2f}]\")"
   ]
  },
  {
   "cell_type": "code",
   "execution_count": 152,
   "id": "1ff8d084",
   "metadata": {},
   "outputs": [
    {
     "data": {
      "image/png": "[encoded data removed]",
      "text/plain": [
       "<Figure size 640x480 with 1 Axes>"
      ]
     },
     "metadata": {},
     "output_type": "display_data"
    }
   ],
   "source": [
    "hist2 = plt.hist(sim2.get('total_costo_mantenimiento'), bins=30, alpha=0.5, label='Punto de reorden 60')\n",
    "hist3 = plt.hist(sim3.get('total_costo_mantenimiento'), bins=30, alpha=0.5, label='Punto de reorden 70')\n",
    "hist4 = plt.hist(sim4.get('total_costo_mantenimiento'), bins=30, alpha=0.5, label='Punto de reorden 80')\n",
    "plt.title('Histograma de Costo de Mantenimiento')\n",
    "plt.xlabel('Costo de Mantenimiento')\n",
    "plt.ylabel('Frecuencia')\n",
    "plt.legend()\n",
    "plt.show()"
   ]
  }
 ],
 "metadata": {
  "kernelspec": {
   "display_name": "Python 3 (ipykernel)",
   "language": "python",
   "name": "python3"
  },
  "language_info": {
   "codemirror_mode": {
    "name": "ipython",
    "version": 3
   },
   "file_extension": ".py",
   "mimetype": "text/x-python",
   "name": "python",
   "nbconvert_exporter": "python",
   "pygments_lexer": "ipython3",
   "version": "3.12.3"
  }
 },
 "nbformat": 4,
 "nbformat_minor": 5
}
